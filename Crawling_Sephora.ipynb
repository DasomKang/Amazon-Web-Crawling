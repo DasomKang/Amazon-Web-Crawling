{
 "cells": [
  {
   "cell_type": "code",
   "execution_count": 2,
   "metadata": {},
   "outputs": [],
   "source": [
    "import requests\n",
    "from bs4 import BeautifulSoup"
   ]
  },
  {
   "cell_type": "markdown",
   "metadata": {},
   "source": [
    "## Sephora에서 데이터 가져오기\n",
    "link = https://www.sephora.com/product/water-sleeping-mask-P420651?icid2=products%20grid:p420651"
   ]
  },
  {
   "cell_type": "code",
   "execution_count": 5,
   "metadata": {},
   "outputs": [
    {
     "name": "stdout",
     "output_type": "stream",
     "text": [
      "Water Sleeping Mask - LANEIGE | Sephora\n"
     ]
    }
   ],
   "source": [
    "# HTTP GET Request \n",
    "res = requests.get('https://www.sephora.com/product/water-sleeping-mask-P420651?icid2=products%20grid:p420651')\n",
    "soup = BeautifulSoup(res.content, 'html.parser')\n",
    "get_title = soup.find('title') ## title 가져와보기\n",
    "print(get_title.get_text())"
   ]
  },
  {
   "cell_type": "code",
   "execution_count": 18,
   "metadata": {},
   "outputs": [
    {
     "name": "stdout",
     "output_type": "stream",
     "text": [
      "Water Sleeping Mask   LANEIGE \n"
     ]
    }
   ],
   "source": [
    "## Product name, brand\n",
    "product = get_title.get_text().split(\"|\")[0]\n",
    "product_name = product.split(\"-\")[0]\n",
    "product_brand = product.split(\"-\")[1]\n",
    "print(product_name, product_brand) "
   ]
  },
  {
   "cell_type": "code",
   "execution_count": 24,
   "metadata": {},
   "outputs": [
    {
     "name": "stdout",
     "output_type": "stream",
     "text": [
      "Skincare Face Masks\n"
     ]
    }
   ],
   "source": [
    "## Category\n",
    "category_1st = soup.find('a', class_='css-10tz5l4 e65zztl0')\n",
    "category_2nd = soup.find('a', class_='css-1nobmxg e65zztl0')\n",
    "print(category_1st.get_text(), category_2nd.get_text())"
   ]
  },
  {
   "cell_type": "code",
   "execution_count": 40,
   "metadata": {},
   "outputs": [
    {
     "name": "stdout",
     "output_type": "stream",
     "text": [
      "[\"  -Sleep-Tox™: Helps calm skin from damage and external stressors that skin suffers during the day; infused with antioxidant-rich Hunza Apricot and Evening Primrose to work overnight to help reduce the look of fatigued skin.\\r\\n-Hydro Ionized Mineral Water: Formulated with six moisture-maximizing minerals\\x97zinc, manganese, magnesium, sodium, calcium, and potassium; helps penetrate quicker and deeper into skin; provides Natural Moisturizing Factors (NMF), similar to skin's own moisturizing agents, to circulate and retain long-lasting moisture.\\r\\n-Moisture Wrap™: An exclusive technology that features a mineral network of moisture-rich beta-glucan to form an eight-hour time-release moisturizing layer over skin; locks in active ingredients and mineral water.\\r\", ' Water, Butylene Glycol, Cyclopentasiloxane, Glycerin, Cyclohexasiloxane, Trehalose, Sodium Hyaluronate, Oenothera Biennis (Evening Primrose) Root Extract, Prunus Armeniaca (Apricot) Fruit Extract, Beta-Glucan, Chenopodium Quinoa Seed Extract, Ascorbyl Glucoside, Magnesium Sulfate, Zinc Sulfate, Manganese Sulfate, Calcium Chloride, Potassium Alginate, Ammonium Acryloyldimethyltaurate / VP Copolymer, Polysorbate 20, Dimethicone, Dimethiconol, Dimethicone / Vinyl Dimethicone Crosspolymer, Propanediol, Ethylhexylglycerin, Stearyl Behenate, Polyglyceryl-3 Methylglucose Distearate, Hydroxypropyl Bispalmitamide MEA, Inulin Lauryl Carbamate, Alcohol, 1,2-Hexanediol, Caprylyl Glycol, Carbomer, Tromethamine, Disodium EDTA, Phenoxyethanol, Fragrance, Blue 1 (Ci 42090).']\n",
      "  -Sleep-Tox™: Helps calm skin from damage and external stressors that skin suffers during the day; infused with antioxidant-rich Hunza Apricot and Evening Primrose to work overnight to help reduce the look of fatigued skin.\n",
      "-Hydro Ionized Mineral Water: Formulated with six moisture-maximizing mineralszinc, manganese, magnesium, sodium, calcium, and potassium; helps penetrate quicker and deeper into skin; provides Natural Moisturizing Factors (NMF), similar to skin's own moisturizing agents, to circulate and retain long-lasting moisture.\n",
      "-Moisture Wrap™: An exclusive technology that features a mineral network of moisture-rich beta-glucan to form an eight-hour time-release moisturizing layer over skin; locks in active ingredients and mineral water.\n",
      " Water, Butylene Glycol, Cyclopentasiloxane, Glycerin, Cyclohexasiloxane, Trehalose, Sodium Hyaluronate, Oenothera Biennis (Evening Primrose) Root Extract, Prunus Armeniaca (Apricot) Fruit Extract, Beta-Glucan, Chenopodium Quinoa Seed Extract, Ascorbyl Glucoside, Magnesium Sulfate, Zinc Sulfate, Manganese Sulfate, Calcium Chloride, Potassium Alginate, Ammonium Acryloyldimethyltaurate / VP Copolymer, Polysorbate 20, Dimethicone, Dimethiconol, Dimethicone / Vinyl Dimethicone Crosspolymer, Propanediol, Ethylhexylglycerin, Stearyl Behenate, Polyglyceryl-3 Methylglucose Distearate, Hydroxypropyl Bispalmitamide MEA, Inulin Lauryl Carbamate, Alcohol, 1,2-Hexanediol, Caprylyl Glycol, Carbomer, Tromethamine, Disodium EDTA, Phenoxyethanol, Fragrance, Blue 1 (Ci 42090).\n"
     ]
    }
   ],
   "source": [
    "## Ingredient\n",
    "ingredient = soup.find('div', id ='tabpanel2')\n",
    "print(ingredient.get_text().split('\\n\\n'))"
   ]
  },
  {
   "cell_type": "code",
   "execution_count": null,
   "metadata": {},
   "outputs": [],
   "source": [
    "## Price\n",
    "price = soup.find('div', class_='css-1865ad6 e65zztl0')\n",
    "print(price.get_text())"
   ]
  },
  {
   "cell_type": "markdown",
   "metadata": {},
   "source": [
    "## 다른 페이지 시도 \n",
    "- Link : https://www.sephora.com/product/the-ordinary-deciem-100-organic-cold-pressed-rose-hip-seed-oil-P427415?icid2=products%20grid:p427415\n",
    "- product name : 100% Organic Cold-Pressed Rose Hip Seed Oil - The Ordinary | Sephora"
   ]
  },
  {
   "cell_type": "code",
   "execution_count": 44,
   "metadata": {},
   "outputs": [
    {
     "name": "stdout",
     "output_type": "stream",
     "text": [
      "100% Organic Cold-Pressed Rose Hip Seed Oil - The Ordinary | Sephora\n"
     ]
    }
   ],
   "source": [
    "# HTTP GET Request \n",
    "res1 = requests.get('https://www.sephora.com/product/the-ordinary-deciem-100-organic-cold-pressed-rose-hip-seed-oil-P427415?icid2=products%20grid:p427415')\n",
    "soup1 = BeautifulSoup(res1.content, 'html.parser')\n",
    "get_title1 = soup1.find('title') ## title 로 가져오기 "
   ]
  },
  {
   "cell_type": "code",
   "execution_count": 49,
   "metadata": {},
   "outputs": [
    {
     "name": "stdout",
     "output_type": "stream",
     "text": [
      "100% Organic Cold-Pressed Rose Hip Seed Oil The Ordinary \n"
     ]
    }
   ],
   "source": [
    "product1 = get_title1.get_text().split(\"|\")[0]\n",
    "product_name1 = product1.split(\" - \")[0]\n",
    "product_brand1 = product1.split(\" - \")[1]\n",
    "print(product_name1, product_brand1)"
   ]
  },
  {
   "cell_type": "code",
   "execution_count": 50,
   "metadata": {},
   "outputs": [
    {
     "name": "stdout",
     "output_type": "stream",
     "text": [
      "Skincare Face Oils\n"
     ]
    }
   ],
   "source": [
    "category_1st = soup1.find('a', class_='css-10tz5l4 e65zztl0')\n",
    "category_2nd = soup1.find('a', class_='css-1nobmxg e65zztl0')\n",
    "print(category_1st.get_text(), category_2nd.get_text())"
   ]
  },
  {
   "cell_type": "code",
   "execution_count": 51,
   "metadata": {},
   "outputs": [
    {
     "name": "stdout",
     "output_type": "stream",
     "text": [
      "[' -Rosa Canina Seed Oil: Rich in pro-vitamin A and essential fatty acids to target signs of photo aging and support healthy, hydrated skin. ']\n"
     ]
    }
   ],
   "source": [
    "ingredient1 = soup1.find('div', id ='tabpanel2')\n",
    "print(ingredient1.get_text().split('\\n\\n'))"
   ]
  },
  {
   "cell_type": "code",
   "execution_count": null,
   "metadata": {},
   "outputs": [],
   "source": [
    "# # HTTP GET Request \n",
    "# res = requests.get('https://www.sephora.com/product/the-ordinary-deciem-100-organic-cold-pressed-rose-hip-seed-oil-P427415?icid2=products%20grid:p427415')\n",
    "# if res.status_code != 200:\n",
    "#     print('page not found')\n",
    "# else:\n",
    "#     soup = BeautifulSoup(res.content, 'html.parser')\n",
    "#     get_title = soup.find('title') ## title 로 가져오기 "
   ]
  },
  {
   "cell_type": "markdown",
   "metadata": {},
   "source": [
    "## Excel File에 저장하기"
   ]
  },
  {
   "cell_type": "code",
   "execution_count": 59,
   "metadata": {},
   "outputs": [
    {
     "name": "stdout",
     "output_type": "stream",
     "text": [
      "Collecting openpyxl\n",
      "  Using cached https://files.pythonhosted.org/packages/f9/d8/be9dc2b17ba47f1db9032ed7e19915145b4c093f66bb36f0d919d2dc8ccf/openpyxl-3.0.4-py2.py3-none-any.whl\n",
      "Collecting jdcal (from openpyxl)\n",
      "  Using cached https://files.pythonhosted.org/packages/f0/da/572cbc0bc582390480bbd7c4e93d14dc46079778ed915b505dc494b37c57/jdcal-1.4.1-py2.py3-none-any.whl\n",
      "Collecting et-xmlfile (from openpyxl)\n",
      "  Using cached https://files.pythonhosted.org/packages/22/28/a99c42aea746e18382ad9fb36f64c1c1f04216f41797f2f0fa567da11388/et_xmlfile-1.0.1.tar.gz\n",
      "Building wheels for collected packages: et-xmlfile\n",
      "  Building wheel for et-xmlfile (setup.py) ... \u001b[?25ldone\n",
      "\u001b[?25h  Created wheel for et-xmlfile: filename=et_xmlfile-1.0.1-cp38-none-any.whl size=8917 sha256=66cc591c30a127f00bf694fad265fe1a01d7a9cad6660070ab3f3380cc3d2554\n",
      "  Stored in directory: /Users/jules.kang/Library/Caches/pip/wheels/2a/77/35/0da0965a057698121fc7d8c5a7a9955cdbfb3cc4e2423cad39\n",
      "Successfully built et-xmlfile\n",
      "Installing collected packages: jdcal, et-xmlfile, openpyxl\n",
      "Successfully installed et-xmlfile-1.0.1 jdcal-1.4.1 openpyxl-3.0.4\n",
      "\u001b[33mWARNING: You are using pip version 19.2.3, however version 20.2.1 is available.\n",
      "You should consider upgrading via the 'pip install --upgrade pip' command.\u001b[0m\n"
     ]
    }
   ],
   "source": [
    "## openpyxl 설치 및 로드\n",
    "#!pip install openpyxl\n",
    "import openpyxl"
   ]
  },
  {
   "cell_type": "code",
   "execution_count": null,
   "metadata": {},
   "outputs": [],
   "source": [
    "## openpyxl 라이브러리 내 기능\n",
    "#excel_file = openpyxl.Workbook() # Workbook으로 엑셀 파일 생성\n",
    "#excel_sheet = excel_file.active # active로 해당 시트 선택\n",
    "# excel_sheet.title = '시트명' #시트명 설정\n",
    "#excel_sheet.append('data1', 'data2', 'data3') # 데이터 추가\n",
    "#excel_file.save('tmp.xlsx') # 파일 저장\n",
    "#excel_file.close()"
   ]
  },
  {
   "cell_type": "markdown",
   "metadata": {},
   "source": [
    "### 한 페이지 내 상품 정보 excel로 저장하기 (샘플용)"
   ]
  },
  {
   "cell_type": "code",
   "execution_count": 178,
   "metadata": {},
   "outputs": [],
   "source": [
    "# write_excel_template 함수 생성\n",
    "def write_excel_template(filename, sheetname, data_list):\n",
    "    excel_file = openpyxl.Workbook()\n",
    "    excel_sheet = excel_file.active\n",
    "  #  excel_sheet.column_dimension['A'].width = 100 # 엑셀 내 A열 길이 설정\n",
    "    \n",
    "    if sheetname != '':\n",
    "        excel_sheet.title = sheetname\n",
    "\n",
    "    excel_sheet.append(['category_1', 'category_2', 'product_brand', 'product_name', 'product_price',\n",
    "                        'ingredient1','ingredient2','ingredient3','ingredient4','ingredient5', 'ingredient6', 'ingredient7'])    \n",
    "        \n",
    "    for item in data_list:\n",
    "        excel_sheet.append(item)\n",
    "    excel_file.save(filename)\n",
    "    excel_file.close()"
   ]
  },
  {
   "cell_type": "code",
   "execution_count": 179,
   "metadata": {},
   "outputs": [],
   "source": [
    "product_lists = list()"
   ]
  },
  {
   "cell_type": "code",
   "execution_count": 180,
   "metadata": {},
   "outputs": [],
   "source": [
    "# HTTP GET Request \n",
    "#res = requests.get('https://www.sephora.com/product/water-sleeping-mask-P420651?icid2=products%20grid:p420651')\n",
    "#soup = BeautifulSoup(res.content, 'html.parser')\n",
    "\n",
    "page_title = soup.find('title') ## title 로 가져오기 \n",
    "product = page_title.get_text().split(\"|\")[0]  \n",
    "product_name = product.split(\" - \")[0]\n",
    "product_brand = product.split(\" - \")[1]\n",
    "\n",
    "category_1st = soup.find('a', class_='css-10tz5l4 e65zztl0') #category 1\n",
    "category_2nd = soup.find('a', class_='css-1nobmxg e65zztl0') #category 2\n",
    "category_1 = category_1st.get_text()\n",
    "category_2 = category_2nd.get_text()\n",
    "\n",
    "price = soup.find('div', class_='css-1865ad6 e65zztl0') #price\n",
    "product_price = price.get_text()\n",
    "\n",
    "product_info = [category_1, category_2, product_brand, product_name, product_price]\n",
    "\n",
    "ingredient_full = soup.find('div', id ='tabpanel2') # ingredient 1,2,3 ..있는 경우 대비\n",
    "ingredient = ingredient_full.get_text()\n",
    "for item in ingredient.split('\\n\\n'):\n",
    "    product_info.append(item)\n",
    "\n",
    "product_lists.append(product_info)"
   ]
  },
  {
   "cell_type": "code",
   "execution_count": 181,
   "metadata": {},
   "outputs": [],
   "source": [
    "write_excel_template('test.xlsx', 'test1', product_lists)"
   ]
  },
  {
   "cell_type": "markdown",
   "metadata": {},
   "source": [
    "## img는 어떻게 할까"
   ]
  },
  {
   "cell_type": "code",
   "execution_count": 175,
   "metadata": {},
   "outputs": [
    {
     "data": {
      "text/plain": [
       "[<img alt=\"LANEIGE - Water Sleeping Mask 2.3 oz/ 70 mL Allure Best of Beauty Seal allure 2017 Best of Beauty Award Winner\" height=\"300\" onload='Sephora.Util.Perf.markPageRenderDedup(\"/productimages/sku/s1966241-main-zoom.jpg?pb=2020-03-allure-best-2017\");' src=\"/productimages/sku/s1966241-main-zoom.jpg?pb=2020-03-allure-best-2017&amp;imwidth=300\" srcset=\"/productimages/sku/s1966241-main-zoom.jpg?pb=2020-03-allure-best-2017&amp;imwidth=300 1x, /productimages/sku/s1966241-main-zoom.jpg?pb=2020-03-allure-best-2017&amp;imwidth=600 2x\" width=\"300\" }=\"\"/>]"
      ]
     },
     "execution_count": 175,
     "metadata": {},
     "output_type": "execute_result"
    }
   ],
   "source": [
    "# img 가져오기\n",
    "img_all = soup.find('div', class_='css-11rgy2w e65zztl0')\n",
    "img = img_all.select('img')\n",
    "img"
   ]
  },
  {
   "cell_type": "code",
   "execution_count": 176,
   "metadata": {},
   "outputs": [],
   "source": [
    "img = img_all.select('img')\n",
    "list1 = list()\n",
    "for i in img:\n",
    "    list1.append(i.get('src')) # img태그에 대하여 src태그 값에 해당하는 것을 list에 추가한다"
   ]
  },
  {
   "cell_type": "code",
   "execution_count": null,
   "metadata": {},
   "outputs": [],
   "source": []
  }
 ],
 "metadata": {
  "kernelspec": {
   "display_name": "Python 3",
   "language": "python",
   "name": "python3"
  },
  "language_info": {
   "codemirror_mode": {
    "name": "ipython",
    "version": 3
   },
   "file_extension": ".py",
   "mimetype": "text/x-python",
   "name": "python",
   "nbconvert_exporter": "python",
   "pygments_lexer": "ipython3",
   "version": "3.8.2"
  }
 },
 "nbformat": 4,
 "nbformat_minor": 4
}
