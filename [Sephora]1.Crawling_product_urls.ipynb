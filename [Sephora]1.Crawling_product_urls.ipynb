{
 "cells": [
  {
   "cell_type": "code",
   "execution_count": 1,
   "metadata": {},
   "outputs": [],
   "source": [
    "import pandas as pd\n",
    "import numpy as np\n",
    "import requests\n",
    "from bs4 import BeautifulSoup\n",
    "import time\n",
    "from selenium import webdriver\n",
    "from selenium.webdriver.common.keys import Keys"
   ]
  },
  {
   "cell_type": "code",
   "execution_count": null,
   "metadata": {},
   "outputs": [],
   "source": [
    "#credit for this codes\n",
    "# - https://www.hackerearth.com/fr/practice/notes/praveen97uma/crawling-a-website-that-loads-content-using-javascript-with-selenium-webdriver-in-python/\n",
    "# - https://github.com/LenaNevel/CAPSTONE/blob/master/00_getting_slugs.ipynb"
   ]
  },
  {
   "cell_type": "markdown",
   "metadata": {},
   "source": [
    "## 0. Category별 상품 링크 크롤링"
   ]
  },
  {
   "cell_type": "code",
   "execution_count": 259,
   "metadata": {},
   "outputs": [],
   "source": [
    "# chromedriver = \"/usr/local/Cellar/chromedriver\"\n",
    "# driver = webdriver.Chrome(chromedriver)\n",
    "\n",
    "## Using Headless Chrome version\n",
    "\n",
    "chromedriver = \"/usr/local/Cellar/chromedriver\"\n",
    "headless_options = webdriver.ChromeOptions()\n",
    "headless_options.add_argument('headless')\n",
    "headless_options.add_argument('window-size=1920x1080')\n",
    "headless_options.add_argument('disable-gpu')\n",
    "driver = webdriver.Chrome(chromedriver, options=headless_options) "
   ]
  },
  {
   "cell_type": "code",
   "execution_count": 241,
   "metadata": {},
   "outputs": [
    {
     "name": "stdout",
     "output_type": "stream",
     "text": [
      "cleanser\n",
      "page 1 completely loaded\n",
      "slug : 60 slugURL : 60\n",
      "page 2 done\n",
      "page 2 completely loaded\n",
      "slug : 60 slugURL : 60\n",
      "page 3 done\n",
      "page 3 completely loaded\n",
      "slug : 60 slugURL : 60\n",
      "page 4 done\n",
      "page 4 completely loaded\n",
      "slug : 60 slugURL : 60\n",
      "page 5 done\n",
      "page 5 completely loaded\n",
      "slug : 60 slugURL : 60\n",
      "page 6 done\n",
      "page 6 completely loaded\n",
      "slug : 60 slugURL : 60\n",
      "page 7 done\n",
      "page 7 completely loaded\n",
      "slug : 60 slugURL : 60\n",
      "page 8 done\n",
      "page 8 completely loaded\n",
      "slug : 60 slugURL : 60\n",
      "page 9 done\n",
      "page 9 completely loaded\n",
      "slug : 15 slugURL : 15\n",
      "page 10 done\n",
      "lip-treatments\n",
      "page 1 completely loaded\n",
      "slug : 60 slugURL : 60\n",
      "page 2 done\n",
      "page 2 completely loaded\n",
      "slug : 60 slugURL : 60\n",
      "page 3 done\n",
      "page 3 completely loaded\n",
      "slug : 46 slugURL : 46\n",
      "page 4 done\n",
      "Work Done\n"
     ]
    }
   ],
   "source": [
    "## select categories & create an empty dataframe\n",
    "categories = ['skin-care-solutions', #702\n",
    "              'moisturizing-cream-oils-mists', #806\n",
    "              'cleanser', #495\n",
    "              'facial-treatments' #582\n",
    "              'eye-treatment-dark-circle-treatment', #221\n",
    "              'face-mask', #305\n",
    "              'sunscreen-sun-protection', #184\n",
    "              'lip-treatments'] #166\n",
    "\n",
    "#creating an empty data frame that all the URLs and categories will go in to\n",
    "final_df = pd.DataFrame(columns = ['category', 'URL'])\n",
    "\n",
    "for category in categories: #looping through the different categories\n",
    "\n",
    "    print(category)\n",
    "    \n",
    "    page_num = 1 #the first page\n",
    "\n",
    "    while True:\n",
    "\n",
    "        #when running the following .get request in order for everything to work properly\n",
    "        #the window needs to be popped open on the screen\n",
    "        url = 'http://www.sephora.com/shop/'+ category + '?currentPage=' + str(page_num)\n",
    "        driver.get(url)\n",
    "        time.sleep(10)\n",
    "\n",
    "        #check to see if the page is empty   \n",
    "        try: \n",
    "            if driver.find_element_by_class_name('css-1kv743p').is_displayed():\n",
    "                break\n",
    "\n",
    "        except:\n",
    "\n",
    "            #check to see if there is a pop up window1\n",
    "            try:\n",
    "                #exit the pop up window\n",
    "                xpath = '//*[@id=\"modal0Dialog\"]/button'\n",
    "                btn = driver.find_element_by_xpath(xpath)\n",
    "                btn.click()\n",
    "                time.sleep(4)\n",
    "            except:\n",
    "                pass    \n",
    "\n",
    "            #check to see if there is a pop up window2 (please_sign_in_to_sephora)\n",
    "            try:\n",
    "                xpath = '//*[@id=\"modal1Dialog\"]/button'\n",
    "                btn = driver.find_element_by_xpath(xpath)\n",
    "                btn.click()\n",
    "                time.sleep(4)\n",
    "            except:\n",
    "                pass    \n",
    "\n",
    "\n",
    "            # Scroll down the page 10 times\n",
    "            body = driver.find_element_by_css_selector('body')\n",
    "            for i in range(10):\n",
    "                body.send_keys(Keys.PAGE_DOWN)\n",
    "                time.sleep(1)\n",
    "\n",
    "            print('page', page_num, 'completely loaded')\n",
    "\n",
    "            time.sleep(5)\n",
    "            slug = driver.find_elements_by_class_name('css-ix8km1') #look for the urls of products    \n",
    "\n",
    "            \n",
    "            #from the list of URLs in slug pull all the href and make a dictionary with it and the category name            \n",
    "            slugURL = list()\n",
    "\n",
    "            for a in slug:\n",
    "                subURL = {}\n",
    "                subURL['category'] = category\n",
    "                subURL['URL'] = a.get_attribute('href')\n",
    "                slugURL.append(subURL)\n",
    "\n",
    "            print('slug :', len(slug), 'slugURL :', len(slugURL))\n",
    "\n",
    "            #append our data frame with categories and URLs\n",
    "            df = pd.DataFrame(slugURL)\n",
    "\n",
    "            print('page', page_num, 'done')\n",
    "\n",
    "            #adding to go to next page\n",
    "            page_num += 1\n",
    "            #concatenating to get all in same df\n",
    "            final_df = pd.concat([final_df, df], axis = 0, ignore_index = True) \n",
    "\n",
    "#close the chrome\n",
    "driver.close()\n",
    "print('Work Done')"
   ]
  },
  {
   "cell_type": "code",
   "execution_count": 261,
   "metadata": {},
   "outputs": [
    {
     "data": {
      "text/plain": [
       "category\n",
       "eye-treatment-dark-circle-treatment    221\n",
       "face-mask                              305\n",
       "facial-treatments                      582\n",
       "sunscreen-sun-protection               183\n",
       "dtype: int64"
      ]
     },
     "execution_count": 261,
     "metadata": {},
     "output_type": "execute_result"
    }
   ],
   "source": [
    "final_df.groupby('category').size()"
   ]
  },
  {
   "cell_type": "code",
   "execution_count": 264,
   "metadata": {},
   "outputs": [],
   "source": [
    "#saving the final dataframe of URLs in to a csv folder\n",
    "final_df.to_csv('./sephora_product_urls.csv', index = False)"
   ]
  },
  {
   "cell_type": "code",
   "execution_count": 265,
   "metadata": {},
   "outputs": [],
   "source": [
    "## Categories\n",
    "# - df1 = 'Cleanser', 'lip-treatments'\n",
    "# - df2 = 'skin-care-solutions','moisturizing-cream-oils-mists'\n",
    "# - df3 = 'facial-treatments','eye-treatment-dark-circle-treatment','face-mask','sunscreen-sun-protection'"
   ]
  },
  {
   "cell_type": "code",
   "execution_count": null,
   "metadata": {},
   "outputs": [],
   "source": []
  }
 ],
 "metadata": {
  "kernelspec": {
   "display_name": "Python 3",
   "language": "python",
   "name": "python3"
  },
  "language_info": {
   "codemirror_mode": {
    "name": "ipython",
    "version": 3
   },
   "file_extension": ".py",
   "mimetype": "text/x-python",
   "name": "python",
   "nbconvert_exporter": "python",
   "pygments_lexer": "ipython3",
   "version": "3.8.2"
  }
 },
 "nbformat": 4,
 "nbformat_minor": 4
}
