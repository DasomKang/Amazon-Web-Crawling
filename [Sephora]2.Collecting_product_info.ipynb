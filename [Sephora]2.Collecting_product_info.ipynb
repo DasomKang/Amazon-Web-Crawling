{
 "cells": [
  {
   "cell_type": "code",
   "execution_count": 3,
   "metadata": {},
   "outputs": [],
   "source": [
    "import pandas as pd\n",
    "import numpy as np\n",
    "import requests\n",
    "from bs4 import BeautifulSoup\n",
    "import time\n",
    "import csv"
   ]
  },
  {
   "cell_type": "code",
   "execution_count": 129,
   "metadata": {},
   "outputs": [
    {
     "data": {
      "text/html": [
       "<div>\n",
       "<style scoped>\n",
       "    .dataframe tbody tr th:only-of-type {\n",
       "        vertical-align: middle;\n",
       "    }\n",
       "\n",
       "    .dataframe tbody tr th {\n",
       "        vertical-align: top;\n",
       "    }\n",
       "\n",
       "    .dataframe thead th {\n",
       "        text-align: right;\n",
       "    }\n",
       "</style>\n",
       "<table border=\"1\" class=\"dataframe\">\n",
       "  <thead>\n",
       "    <tr style=\"text-align: right;\">\n",
       "      <th></th>\n",
       "      <th>category</th>\n",
       "      <th>URL</th>\n",
       "    </tr>\n",
       "  </thead>\n",
       "  <tbody>\n",
       "    <tr>\n",
       "      <th>0</th>\n",
       "      <td>skin-care-solutions</td>\n",
       "      <td>https://www.sephora.com/product/protini-tm-pol...</td>\n",
       "    </tr>\n",
       "    <tr>\n",
       "      <th>1</th>\n",
       "      <td>skin-care-solutions</td>\n",
       "      <td>https://www.sephora.com/product/the-ordinary-d...</td>\n",
       "    </tr>\n",
       "    <tr>\n",
       "      <th>2</th>\n",
       "      <td>skin-care-solutions</td>\n",
       "      <td>https://www.sephora.com/product/alpha-beta-pee...</td>\n",
       "    </tr>\n",
       "    <tr>\n",
       "      <th>3</th>\n",
       "      <td>skin-care-solutions</td>\n",
       "      <td>https://www.sephora.com/product/the-ordinary-d...</td>\n",
       "    </tr>\n",
       "    <tr>\n",
       "      <th>4</th>\n",
       "      <td>skin-care-solutions</td>\n",
       "      <td>https://www.sephora.com/product/aha-30-bha-2-p...</td>\n",
       "    </tr>\n",
       "  </tbody>\n",
       "</table>\n",
       "</div>"
      ],
      "text/plain": [
       "              category                                                URL\n",
       "0  skin-care-solutions  https://www.sephora.com/product/protini-tm-pol...\n",
       "1  skin-care-solutions  https://www.sephora.com/product/the-ordinary-d...\n",
       "2  skin-care-solutions  https://www.sephora.com/product/alpha-beta-pee...\n",
       "3  skin-care-solutions  https://www.sephora.com/product/the-ordinary-d...\n",
       "4  skin-care-solutions  https://www.sephora.com/product/aha-30-bha-2-p..."
      ]
     },
     "execution_count": 129,
     "metadata": {},
     "output_type": "execute_result"
    }
   ],
   "source": [
    "#reading urls from sephora_product_urls.csv\n",
    "urls = pd.read_csv('./Data/URLs/sephora_product_urls.csv')\n",
    "urls.head()"
   ]
  },
  {
   "cell_type": "code",
   "execution_count": 192,
   "metadata": {},
   "outputs": [],
   "source": [
    "#opening a new csv file with headers\n",
    "header = ['name', 'brand', 'category', 'price', 'size1','size2', 'url', 'img', 'ingredients']\n",
    "\n",
    "with open('./Data/Product_Info/product_info.csv', \"w\", newline='') as f:\n",
    "    writer = csv.writer(f, delimiter=',')\n",
    "    writer.writerow(header) # write the header"
   ]
  },
  {
   "cell_type": "code",
   "execution_count": 195,
   "metadata": {},
   "outputs": [
    {
     "ename": "IndentationError",
     "evalue": "unexpected indent (<ipython-input-195-65efd55cf7df>, line 2)",
     "output_type": "error",
     "traceback": [
      "\u001b[0;36m  File \u001b[0;32m\"<ipython-input-195-65efd55cf7df>\"\u001b[0;36m, line \u001b[0;32m2\u001b[0m\n\u001b[0;31m    products = [] #empty list to append the dictionary in to before passing in to a DataFrame\u001b[0m\n\u001b[0m    ^\u001b[0m\n\u001b[0;31mIndentationError\u001b[0m\u001b[0;31m:\u001b[0m unexpected indent\n"
     ]
    }
   ],
   "source": [
    "#for i in urls.index:\n",
    "    products = [] #empty list to append the dictionary in to before passing in to a DataFrame\n",
    "    #setting the path to the the html files\n",
    "    url = urls.URL[i]\n",
    "    res = requests.get(url)\n",
    "    #print(i)\n",
    "    time.sleep(10)\n",
    "\n",
    "    \n",
    "    if res.status_code != 200:\n",
    "        print('error when requestion {}'.format(url))\n",
    "        break\n",
    "\n",
    "\n",
    "    #creating a new soup from it\n",
    "    soup = BeautifulSoup(res.content, 'html.parser')\n",
    "    #gathering the data from the pages\n",
    "    try:   \n",
    "              \n",
    "        product = {}\n",
    "        \n",
    "        page_title = soup.find('title').get_text().split(\"|\")[0]  \n",
    "        product['name'] = page_title.split(\" - \")[0]\n",
    "        product['brand'] = page_title.split(\" - \")[1]\n",
    "            \n",
    "        #category\n",
    "        product['category'] = urls.category[i]\n",
    "    \n",
    "        #price\n",
    "        product['price'] = soup.find('div', class_='css-1865ad6 e65zztl0').get_text() #price\n",
    "\n",
    "        #standard size (the product size has two different formats on the pages)\n",
    "        product['size1'] = soup.find('div', class_='css-128n72s').get_text()\n",
    "        try:\n",
    "            product['size2'] = soup.find('span', class_='css-ta42ek').get_text()\n",
    "        except:\n",
    "            product['size2'] = '0'\n",
    "            \n",
    "        #url\n",
    "        product['url'] = urls.URL[i]\n",
    "        \n",
    "        #img\n",
    "        product['img'] = soup.find('img', class_='css-2tyy5 e65zztl0').get('src')\n",
    "        #img_all.get('src').split('?')[0]\n",
    "        #https://www.sephora.com/productimages/sku/s2025633-main-zoom.jpg\n",
    "     \n",
    "       #ingredients\n",
    "        product['ingredients'] = soup.find('div', id ='tabpanel2') #.get_text()\n",
    "        #product['ingredients'] = str(ingredients).split('<br/>') #will need to break during cleaning\n",
    "        \n",
    "\n",
    "        #append the empty list to later make in to a dataframe\n",
    "        products.append(product)\n",
    "        #print('complete', i)\n",
    "        product_df = pd.DataFrame(products) \n",
    "        #append in the csv file that created above\n",
    "        product_df.to_csv('./Data/Product_Info/product_info.csv', mode='a', index = False, header = False)\n",
    "\n",
    "    except: #if the page no longer existed when gathered html\n",
    "        pass\n",
    "    \n",
    "print('Done')"
   ]
  },
  {
   "cell_type": "code",
   "execution_count": 177,
   "metadata": {},
   "outputs": [],
   "source": [
    "try:\n",
    "    product = {}\n",
    "\n",
    "    try:\n",
    "        product['img1'] = soup.find('img', class_='css-2tyy5 e65zztl0').get('src')\n",
    "    except:\n",
    "        product['img1'] = soup.find('div', class_='css-11rgy2w').get_text()\n",
    "except:\n",
    "    pass"
   ]
  },
  {
   "cell_type": "code",
   "execution_count": 160,
   "metadata": {},
   "outputs": [],
   "source": [
    "# product['img1'] = soup.find('div', class_='css-11rgy2w').get('src')\n",
    "# soup.find('div', class_='css-11rgy2w').get_text()"
   ]
  }
 ],
 "metadata": {
  "kernelspec": {
   "display_name": "Python 3",
   "language": "python",
   "name": "python3"
  },
  "language_info": {
   "codemirror_mode": {
    "name": "ipython",
    "version": 3
   },
   "file_extension": ".py",
   "mimetype": "text/x-python",
   "name": "python",
   "nbconvert_exporter": "python",
   "pygments_lexer": "ipython3",
   "version": "3.8.2"
  }
 },
 "nbformat": 4,
 "nbformat_minor": 4
}
